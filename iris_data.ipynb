{
  "nbformat": 4,
  "nbformat_minor": 0,
  "metadata": {
    "colab": {
      "name": "iris_data.ipynb",
      "version": "0.3.2",
      "views": {},
      "default_view": {},
      "provenance": [],
      "collapsed_sections": []
    },
    "kernelspec": {
      "name": "python3",
      "display_name": "Python 3"
    }
  },
  "cells": [
    {
      "metadata": {
        "id": "OWooZHc1LeZd",
        "colab_type": "code",
        "colab": {
          "autoexec": {
            "startup": false,
            "wait_interval": 0
          }
        }
      },
      "cell_type": "code",
      "source": [
        "import pandas as pd\n",
        "import numpy as np\n",
        "import matplotlib.pyplot as plt\n",
        "from sklearn.svm import SVC\n",
        "from sklearn.metrics import accuracy_score\n",
        "from sklearn.metrics import classification_report\n",
        "from sklearn.metrics import confusion_matrix"
      ],
      "execution_count": 0,
      "outputs": []
    },
    {
      "metadata": {
        "id": "rj023CSoL8T2",
        "colab_type": "code",
        "colab": {
          "autoexec": {
            "startup": false,
            "wait_interval": 0
          }
        }
      },
      "cell_type": "code",
      "source": [
        "df = pd.read_csv(\"http://archive.ics.uci.edu/ml/machine-learning-databases/iris/bezdekIris.data\",\n",
        "names = [\"Sepal Length\", \"Sepal Width\", \"Petal Length\", \"Petal Width\", \"Class\"])"
      ],
      "execution_count": 0,
      "outputs": []
    },
    {
      "metadata": {
        "id": "Pmro9ZDRMTz-",
        "colab_type": "code",
        "colab": {
          "autoexec": {
            "startup": false,
            "wait_interval": 0
          },
          "base_uri": "https://localhost:8080/",
          "height": 240
        },
        "outputId": "42386b4b-c44e-42e5-f146-0876f8be8dbd",
        "executionInfo": {
          "status": "ok",
          "timestamp": 1528214608224,
          "user_tz": -330,
          "elapsed": 1210,
          "user": {
            "displayName": "Priyadharshan Saba",
            "photoUrl": "//lh5.googleusercontent.com/-PfrMeX74BFM/AAAAAAAAAAI/AAAAAAAAEe8/LcayyAlSBx8/s50-c-k-no/photo.jpg",
            "userId": "106388315316518890634"
          }
        }
      },
      "cell_type": "code",
      "source": [
        "print(df.head(10))"
      ],
      "execution_count": 4,
      "outputs": [
        {
          "output_type": "stream",
          "text": [
            "   Sepal Length  Sepal Width  Petal Length  Petal Width        Class\n",
            "0           5.1          3.5           1.4          0.2  Iris-setosa\n",
            "1           4.9          3.0           1.4          0.2  Iris-setosa\n",
            "2           4.7          3.2           1.3          0.2  Iris-setosa\n",
            "3           4.6          3.1           1.5          0.2  Iris-setosa\n",
            "4           5.0          3.6           1.4          0.2  Iris-setosa\n",
            "5           5.4          3.9           1.7          0.4  Iris-setosa\n",
            "6           4.6          3.4           1.4          0.3  Iris-setosa\n",
            "7           5.0          3.4           1.5          0.2  Iris-setosa\n",
            "8           4.4          2.9           1.4          0.2  Iris-setosa\n",
            "9           4.9          3.1           1.5          0.1  Iris-setosa\n"
          ],
          "name": "stdout"
        }
      ]
    },
    {
      "metadata": {
        "id": "dzYRY8ukMz7g",
        "colab_type": "code",
        "colab": {
          "autoexec": {
            "startup": false,
            "wait_interval": 0
          },
          "base_uri": "https://localhost:8080/",
          "height": 465
        },
        "outputId": "f4518cff-62cd-416e-8240-c2828de52d1b",
        "executionInfo": {
          "status": "ok",
          "timestamp": 1528214609893,
          "user_tz": -330,
          "elapsed": 1588,
          "user": {
            "displayName": "Priyadharshan Saba",
            "photoUrl": "//lh5.googleusercontent.com/-PfrMeX74BFM/AAAAAAAAAAI/AAAAAAAAEe8/LcayyAlSBx8/s50-c-k-no/photo.jpg",
            "userId": "106388315316518890634"
          }
        }
      },
      "cell_type": "code",
      "source": [
        "df.hist(bins=20)"
      ],
      "execution_count": 5,
      "outputs": [
        {
          "output_type": "execute_result",
          "data": {
            "text/plain": [
              "array([[<matplotlib.axes._subplots.AxesSubplot object at 0x7fb9d0d38978>,\n",
              "        <matplotlib.axes._subplots.AxesSubplot object at 0x7fb9d088ee48>],\n",
              "       [<matplotlib.axes._subplots.AxesSubplot object at 0x7fb9d0857978>,\n",
              "        <matplotlib.axes._subplots.AxesSubplot object at 0x7fb9d0803eb8>]],\n",
              "      dtype=object)"
            ]
          },
          "metadata": {
            "tags": []
          },
          "execution_count": 5
        },
        {
          "output_type": "display_data",
          "data": {
            "image/png": "[encoded data removed]",
            "text/plain": [
              "<matplotlib.figure.Figure at 0x7fb9ea2ea3c8>"
            ]
          },
          "metadata": {
            "tags": []
          }
        }
      ]
    },
    {
      "metadata": {
        "id": "tkhSratXNIgg",
        "colab_type": "code",
        "colab": {
          "autoexec": {
            "startup": false,
            "wait_interval": 0
          }
        }
      },
      "cell_type": "code",
      "source": [
        "data_array=df.values\n",
        "np.random.shuffle(data_array)\n",
        "x = data_array[:80][:,0:4]\n",
        "y = data_array[:80][:,4]"
      ],
      "execution_count": 0,
      "outputs": []
    },
    {
      "metadata": {
        "id": "_Ob2ThHpPxbT",
        "colab_type": "code",
        "colab": {
          "autoexec": {
            "startup": false,
            "wait_interval": 0
          },
          "base_uri": "https://localhost:8080/",
          "height": 125
        },
        "outputId": "c8dfd164-0991-453c-af16-9472e1220e45",
        "executionInfo": {
          "status": "ok",
          "timestamp": 1528214611888,
          "user_tz": -330,
          "elapsed": 984,
          "user": {
            "displayName": "Priyadharshan Saba",
            "photoUrl": "//lh5.googleusercontent.com/-PfrMeX74BFM/AAAAAAAAAAI/AAAAAAAAEe8/LcayyAlSBx8/s50-c-k-no/photo.jpg",
            "userId": "106388315316518890634"
          }
        }
      },
      "cell_type": "code",
      "source": [
        "svc=SVC()\n",
        "svc.fit(x,y)"
      ],
      "execution_count": 7,
      "outputs": [
        {
          "output_type": "execute_result",
          "data": {
            "text/plain": [
              "SVC(C=1.0, cache_size=200, class_weight=None, coef0=0.0,\n",
              "  decision_function_shape='ovr', degree=3, gamma='auto', kernel='rbf',\n",
              "  max_iter=-1, probability=False, random_state=None, shrinking=True,\n",
              "  tol=0.001, verbose=False)"
            ]
          },
          "metadata": {
            "tags": []
          },
          "execution_count": 7
        }
      ]
    },
    {
      "metadata": {
        "id": "hejWy26bP3VL",
        "colab_type": "code",
        "colab": {
          "autoexec": {
            "startup": false,
            "wait_interval": 0
          }
        }
      },
      "cell_type": "code",
      "source": [
        "X = data_array[-20:][:,0:4]\n",
        "Y = data_array[-20:][:,4]"
      ],
      "execution_count": 0,
      "outputs": []
    },
    {
      "metadata": {
        "id": "j8UTs4cGFMch",
        "colab_type": "code",
        "colab": {
          "autoexec": {
            "startup": false,
            "wait_interval": 0
          },
          "base_uri": "https://localhost:8080/",
          "height": 140
        },
        "outputId": "9b9c77f1-f0c5-4fca-992a-ba3f0304d604",
        "executionInfo": {
          "status": "ok",
          "timestamp": 1528214614096,
          "user_tz": -330,
          "elapsed": 961,
          "user": {
            "displayName": "Priyadharshan Saba",
            "photoUrl": "//lh5.googleusercontent.com/-PfrMeX74BFM/AAAAAAAAAAI/AAAAAAAAEe8/LcayyAlSBx8/s50-c-k-no/photo.jpg",
            "userId": "106388315316518890634"
          }
        }
      },
      "cell_type": "code",
      "source": [
        "pred = svc.predict(X)\n",
        "print(pred)"
      ],
      "execution_count": 9,
      "outputs": [
        {
          "output_type": "stream",
          "text": [
            "['Iris-versicolor' 'Iris-virginica' 'Iris-versicolor' 'Iris-versicolor'\n",
            " 'Iris-setosa' 'Iris-versicolor' 'Iris-virginica' 'Iris-setosa'\n",
            " 'Iris-virginica' 'Iris-versicolor' 'Iris-virginica' 'Iris-virginica'\n",
            " 'Iris-virginica' 'Iris-versicolor' 'Iris-versicolor' 'Iris-versicolor'\n",
            " 'Iris-setosa' 'Iris-versicolor' 'Iris-versicolor' 'Iris-versicolor']\n"
          ],
          "name": "stdout"
        }
      ]
    },
    {
      "metadata": {
        "id": "NZ2YzNxjFPOm",
        "colab_type": "code",
        "colab": {
          "autoexec": {
            "startup": false,
            "wait_interval": 0
          },
          "base_uri": "https://localhost:8080/",
          "height": 140
        },
        "outputId": "1d131457-606c-4e6b-fa7a-dbe2ff03edcc",
        "executionInfo": {
          "status": "ok",
          "timestamp": 1528214951187,
          "user_tz": -330,
          "elapsed": 925,
          "user": {
            "displayName": "Priyadharshan Saba",
            "photoUrl": "//lh5.googleusercontent.com/-PfrMeX74BFM/AAAAAAAAAAI/AAAAAAAAEe8/LcayyAlSBx8/s50-c-k-no/photo.jpg",
            "userId": "106388315316518890634"
          }
        }
      },
      "cell_type": "code",
      "source": [
        "print(Y)"
      ],
      "execution_count": 16,
      "outputs": [
        {
          "output_type": "stream",
          "text": [
            "['Iris-versicolor' 'Iris-virginica' 'Iris-versicolor' 'Iris-versicolor'\n",
            " 'Iris-setosa' 'Iris-versicolor' 'Iris-virginica' 'Iris-setosa'\n",
            " 'Iris-virginica' 'Iris-versicolor' 'Iris-virginica' 'Iris-virginica'\n",
            " 'Iris-virginica' 'Iris-versicolor' 'Iris-versicolor' 'Iris-versicolor'\n",
            " 'Iris-setosa' 'Iris-versicolor' 'Iris-virginica' 'Iris-versicolor']\n"
          ],
          "name": "stdout"
        }
      ]
    },
    {
      "metadata": {
        "id": "z_zsuIvFFXoF",
        "colab_type": "code",
        "colab": {
          "autoexec": {
            "startup": false,
            "wait_interval": 0
          },
          "base_uri": "https://localhost:8080/",
          "height": 388
        },
        "outputId": "e4ed3e67-ee92-48dc-e592-541fafdaf14e",
        "executionInfo": {
          "status": "ok",
          "timestamp": 1528215166539,
          "user_tz": -330,
          "elapsed": 952,
          "user": {
            "displayName": "Priyadharshan Saba",
            "photoUrl": "//lh5.googleusercontent.com/-PfrMeX74BFM/AAAAAAAAAAI/AAAAAAAAEe8/LcayyAlSBx8/s50-c-k-no/photo.jpg",
            "userId": "106388315316518890634"
          }
        }
      },
      "cell_type": "code",
      "source": [
        "per=0\n",
        "if print((pred==Y).all()):\n",
        "  rate=100\n",
        "else:\n",
        "  for i in range(0,len(Y)):\n",
        "    if pred[i]==Y[i]:\n",
        "      per+=1\n",
        "        "
      ],
      "execution_count": 29,
      "outputs": [
        {
          "output_type": "stream",
          "text": [
            "False\n",
            "Iris-versicolor ----> Iris-versicolor \t True\n",
            "Iris-virginica ----> Iris-virginica \t True\n",
            "Iris-versicolor ----> Iris-versicolor \t True\n",
            "Iris-versicolor ----> Iris-versicolor \t True\n",
            "Iris-setosa ----> Iris-setosa \t True\n",
            "Iris-versicolor ----> Iris-versicolor \t True\n",
            "Iris-virginica ----> Iris-virginica \t True\n",
            "Iris-setosa ----> Iris-setosa \t True\n",
            "Iris-virginica ----> Iris-virginica \t True\n",
            "Iris-versicolor ----> Iris-versicolor \t True\n",
            "Iris-virginica ----> Iris-virginica \t True\n",
            "Iris-virginica ----> Iris-virginica \t True\n",
            "Iris-virginica ----> Iris-virginica \t True\n",
            "Iris-versicolor ----> Iris-versicolor \t True\n",
            "Iris-versicolor ----> Iris-versicolor \t True\n",
            "Iris-versicolor ----> Iris-versicolor \t True\n",
            "Iris-setosa ----> Iris-setosa \t True\n",
            "Iris-versicolor ----> Iris-versicolor \t True\n",
            "Iris-versicolor ----> Iris-versicolor \t True\n"
          ],
          "name": "stdout"
        }
      ]
    },
    {
      "metadata": {
        "id": "nIQlYQX8sXfi",
        "colab_type": "code",
        "colab": {
          "autoexec": {
            "startup": false,
            "wait_interval": 0
          },
          "base_uri": "https://localhost:8080/",
          "height": 74
        },
        "outputId": "219ef516-4645-4039-d742-b0f4457e8c1c",
        "executionInfo": {
          "status": "ok",
          "timestamp": 1528215215763,
          "user_tz": -330,
          "elapsed": 1179,
          "user": {
            "displayName": "Priyadharshan Saba",
            "photoUrl": "//lh5.googleusercontent.com/-PfrMeX74BFM/AAAAAAAAAAI/AAAAAAAAEe8/LcayyAlSBx8/s50-c-k-no/photo.jpg",
            "userId": "106388315316518890634"
          }
        }
      },
      "cell_type": "code",
      "source": [
        "print(per/len(Y)*100,\"%\")"
      ],
      "execution_count": 32,
      "outputs": [
        {
          "output_type": "stream",
          "text": [
            "95.0 %\n"
          ],
          "name": "stdout"
        }
      ]
    },
    {
      "metadata": {
        "id": "r6dMj9artcLo",
        "colab_type": "code",
        "colab": {
          "autoexec": {
            "startup": false,
            "wait_interval": 0
          }
        }
      },
      "cell_type": "code",
      "source": [
        ""
      ],
      "execution_count": 0,
      "outputs": []
    }
  ]
}